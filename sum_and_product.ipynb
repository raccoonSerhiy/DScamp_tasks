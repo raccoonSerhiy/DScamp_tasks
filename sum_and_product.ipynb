{
 "cells": [
  {
   "cell_type": "markdown",
   "id": "61c0e2c1-b272-4066-9860-e00e734e3631",
   "metadata": {},
   "source": [
    "There are two whole numbers:\n",
    "1 < a,b <100\n",
    "\n",
    "One scientist(\"Sum\") get provided with sum of numbers,\n",
    "another  (\"Prod\") get provided with product of numbers. \n",
    "Both scientists know that numbers 1 < a,b <100.\n",
    "\n",
    "Determine the numbers being based on the following dialog: \n",
    "    Prod: I don't know the numbers;\n",
    "    Sum: I know it;\n",
    "    Prod: then I know the numbers; \n",
    "    Sum: then I know the numbers too."
   ]
  },
  {
   "cell_type": "code",
   "execution_count": 26,
   "id": "bdc7e8f9-55d2-4752-a84f-35ccb2ec336f",
   "metadata": {
    "tags": []
   },
   "outputs": [
    {
     "name": "stdout",
     "output_type": "stream",
     "text": [
      "[(4, 13)]\n"
     ]
    }
   ],
   "source": [
    "import math\n",
    "min=2\n",
    "max=100\n",
    "\n",
    "def count_divisors(num):\n",
    "  # Function to count divisors of a number\n",
    " count=0\n",
    " for i in range(min, math.floor(math.sqrt(num ))+1): #DO NOT USE math.ceil \n",
    "  if num%i==0  and num//i in range(min,max): count+=1\n",
    " return count\n",
    "\n",
    "def check_sum_of_addends(num):  \n",
    "  # Function to check if num can be expressed as the sum of two numbers, \n",
    "  # product of which have 1 or less divisiors\n",
    "  for i in range(min,num//2+1):\n",
    "    if num-i not in range(min,max) or i not in range(min,max) : continue\n",
    "    if (count_divisors(i*(num-i))<=1): return False   \n",
    "  return True\n",
    " \n",
    "def check_factors_list(list):\n",
    "  # Function to check if each element in the list can be represented as the product\n",
    "  # of only two numbers from the list\n",
    "  res=[]\n",
    "  for i in list:\n",
    "    temp=i[0]*i[1]\n",
    "    count=0\n",
    "    for j in range(min,math.floor(math.sqrt(temp))+1):\n",
    "      if temp%j==0 and temp//j in range(min,max) and ((j,temp//j) in list or (temp//j,j) in list): \n",
    "          count+=1\n",
    "          \n",
    "    if count==1:\n",
    "      res.append(i)\n",
    "  return res    \n",
    "   \n",
    "def check_addends_list(list):\n",
    "  # Function to check if each element in the list can be represented as the sum\n",
    "  # of only two numbers from the list\n",
    "  res=[]\n",
    "  for i in list:\n",
    "    temp=i[0]+i[1]\n",
    "    count=0\n",
    "    for j in range(min,temp//2+1):\n",
    "      if temp-j in range(min,max) and temp-j!=j:\n",
    "        if (j,temp-j)in list or (temp-j,j) in list: count+=1\n",
    "    if count==1: res.append(i)\n",
    "  return res \n",
    " \n",
    "pairs=[]\n",
    "for i in range(min, max):\n",
    " for j in range(i,max):\n",
    "  if count_divisors(i*j)>1 and check_sum_of_addends(i+j): \n",
    "    # Prod: I don't know the numbers; (більше 1 пари дільників).     \n",
    "    # Sum: I know it; (добуток будь яких 2 доданків повторює першу умову)\n",
    "    pairs.append((i,j))\n",
    "\n",
    "#Prod: then I know the numbers; (з усіх можливих варіантів в нього лишився лише 1) \n",
    "# пошук пар з унікальним добутком => в інших випадках він би не сказав шо знає числа\n",
    "pairs=check_factors_list(pairs )\n",
    "\n",
    "#Sum: then I know the numbers too. (відкинув ті варіанти які проду не дали б числ і пошук унікальних)\n",
    "pairs=check_addends_list(pairs)\n",
    "\n",
    "print(pairs)"
   ]
  },
  {
   "cell_type": "code",
   "execution_count": null,
   "id": "ddd4ac2a",
   "metadata": {},
   "outputs": [],
   "source": []
  }
 ],
 "metadata": {
  "kernelspec": {
   "display_name": "Python 3 (ipykernel)",
   "language": "python",
   "name": "python3"
  },
  "language_info": {
   "codemirror_mode": {
    "name": "ipython",
    "version": 3
   },
   "file_extension": ".py",
   "mimetype": "text/x-python",
   "name": "python",
   "nbconvert_exporter": "python",
   "pygments_lexer": "ipython3",
   "version": "3.10.6"
  }
 },
 "nbformat": 4,
 "nbformat_minor": 5
}
